{
 "cells": [
  {
   "cell_type": "markdown",
   "metadata": {},
   "source": [
    "This Notebook contains the required code to setup and query data from the local SQL database. It uses the SQLite3 library. The tables follow the structure desribed in the README file."
   ]
  },
  {
   "cell_type": "code",
   "execution_count": 2,
   "metadata": {},
   "outputs": [],
   "source": [
    "import sqlite3 as sq\n",
    "import json\n",
    "from time_entries_controller import TimeCampEntry\n",
    "from debug_logger import setup_debug_logger\n",
    "logger = setup_debug_logger()"
   ]
  },
  {
   "cell_type": "markdown",
   "metadata": {},
   "source": [
    "Using only sqlite3 basic fonctionalities, running SQL instructions."
   ]
  },
  {
   "cell_type": "code",
   "execution_count": 3,
   "metadata": {},
   "outputs": [],
   "source": [
    "def create_connection() -> sq.Connection:\n",
    "    try:\n",
    "        conn = sq.connect('time_tracker.db')\n",
    "    except sq.Error as e:\n",
    "        logger.error(f'Connection creation got error: {e}')\n",
    "    finally:\n",
    "        return conn\n",
    "    \n",
    "def close_connection(conn: sq.Connection) -> None:\n",
    "    try:\n",
    "        conn.close()\n",
    "    except sq.Error as e:\n",
    "        logger.error(f'Connection closing got error: {e}')"
   ]
  },
  {
   "cell_type": "markdown",
   "metadata": {},
   "source": [
    "Creating the Users table"
   ]
  },
  {
   "cell_type": "code",
   "execution_count": 4,
   "metadata": {},
   "outputs": [],
   "source": [
    "def create_users_table() -> None:\n",
    "    \"\"\"\n",
    "    Creates a new table called 'Users' in the database with the following structure:\n",
    "    \n",
    "    - UserID: INTEGER (Primary Key)\n",
    "    - Name: TEXT (Not Null)\n",
    "    - Email: TEXT (Not Null, Unique)\n",
    "    - Token: TEXT (Not Null, Unique)\n",
    "    \"\"\"\n",
    "    conn = create_connection()\n",
    "    try:\n",
    "        c = conn.cursor()\n",
    "        # Drop the existing table if it exists\n",
    "        c.execute('DROP TABLE IF EXISTS Users')\n",
    "        \n",
    "        # Create the new table with the desired structure\n",
    "        c.execute('''\n",
    "        CREATE TABLE Users (\n",
    "            UserID INTEGER PRIMARY KEY,\n",
    "            Name TEXT NOT NULL,\n",
    "            Email TEXT NOT NULL UNIQUE,\n",
    "            Token TEXT NOT NULL UNIQUE\n",
    "        )\n",
    "        ''')\n",
    "        conn.commit()\n",
    "    except sq.Error as e:\n",
    "        logger.error(f'Creating users table got error: {e}')\n",
    "    finally:\n",
    "        close_connection(conn)\n",
    "\n",
    "create_users_table()\n"
   ]
  },
  {
   "cell_type": "markdown",
   "metadata": {},
   "source": [
    "Creating the TimeEntries table"
   ]
  },
  {
   "cell_type": "code",
   "execution_count": 5,
   "metadata": {},
   "outputs": [],
   "source": [
    "def create_time_entries_table() -> None:\n",
    "    conn = create_connection()\n",
    "    try:\n",
    "        c = conn.cursor()\n",
    "        # Drop the existing table if it exists\n",
    "        c.execute('DROP TABLE IF EXISTS TimeEntries')\n",
    "        # Create the new table with the desired structure\n",
    "        c.execute('''\n",
    "            CREATE TABLE TimeEntries (\n",
    "            TimeEntryID TEXT PRIMARY KEY,\n",
    "            UserID TEXT,\n",
    "            Date TEXT NOT NULL,\n",
    "            StartTime TEXT NOT NULL,\n",
    "            EndTime TEXT NOT NULL,\n",
    "            Duration TEXT,\n",
    "            TaskID TEXT,\n",
    "            FOREIGN KEY(UserID) REFERENCES Users(UserID)\n",
    "        )\n",
    "        ''')\n",
    "        # The foreign key is the link between the two tables. It ensures that the UserID in the TimeEntries table is a valid UserID in the Users table.\n",
    "    except sq.Error as e:\n",
    "        logger.error(f'Creating time_entries table got error: {e}')\n",
    "    finally:\n",
    "        close_connection(conn)\n",
    "create_time_entries_table()"
   ]
  },
  {
   "cell_type": "code",
   "execution_count": 22,
   "metadata": {},
   "outputs": [
    {
     "name": "stdout",
     "output_type": "stream",
     "text": [
      "TimeCampEntry Class Attributes\n",
      "id : 199699361\n",
      "duration : 1320\n",
      "user_id : 2056041\n",
      "user_name : david.knabenhans@gmail.com\n",
      "task_id : 149709760\n",
      "task_note : \n",
      "last_modify : 2024-02-12 08:11:31\n",
      "date : 2023-10-18\n",
      "start_time : 20:00:00\n",
      "end_time : 20:22:00\n",
      "locked : 0\n",
      "name : 2023_Bob\n",
      "addons_external_id : board_63ca7d8b28bd870141457e75\n",
      "billable : 1\n",
      "invoice_id : 0\n",
      "color : #34C644\n",
      "description : FAKE TIME ENTRY\n",
      "Fake time entry data: None\n",
      "('1234567', None, '2021-12-23', '11:00:00', '12:00:00', '60', '789')\n",
      "('19912', None, '2023-10-18', '20:00:00', '20:22:00', '1320', '149709760')\n",
      "('199699361', '2056041', '2023-10-18', '20:00:00', '20:22:00', '1320', '149709760')\n"
     ]
    }
   ],
   "source": [
    "# Add entry to database\n",
    "def insert_time_entry(time_entry: TimeCampEntry) -> None:\n",
    "    conn = create_connection()\n",
    "    try:\n",
    "        c = conn.cursor()\n",
    "        c.execute(f\"INSERT INTO TimeEntries (TimeEntryID, UserID, Date, StartTime, EndTime, Duration, TaskID) VALUES (?, ?, ?, ?, ?, ?, ?)\", \n",
    "                  (time_entry.id, time_entry.user_id, time_entry.date, time_entry.start_time, time_entry.end_time, time_entry.duration, time_entry.task_id))\n",
    "        conn.commit()\n",
    "    except sq.Error as e:\n",
    "        logger.error(f'Inserting time entry {time_entry.id} into local database got: {e}')\n",
    "    finally:\n",
    "        close_connection(conn)\n",
    "\n",
    "\n",
    "with open('fake_time_entry_content.json') as f:\n",
    "    fake_time_entry = TimeCampEntry(json.load(f))\n",
    "print(f'Fake time entry data: {fake_time_entry.print_attributes()}')\n",
    "insert_time_entry(fake_time_entry)\n",
    "\n",
    "def query_time_entries() -> None:\n",
    "    conn = create_connection()\n",
    "    try:\n",
    "        c = conn.cursor()\n",
    "        c.execute('SELECT * FROM TimeEntries')\n",
    "        rows = c.fetchall()\n",
    "        for row in rows:\n",
    "            print(row)\n",
    "    except sq.Error as e:\n",
    "        logger.error(f'Querying time entries got error: {e}')\n",
    "    finally:\n",
    "        close_connection(conn)\n",
    "\n",
    "query_time_entries()\n",
    "\n"
   ]
  }
 ],
 "metadata": {
  "kernelspec": {
   "display_name": "Python 3",
   "language": "python",
   "name": "python3"
  },
  "language_info": {
   "codemirror_mode": {
    "name": "ipython",
    "version": 3
   },
   "file_extension": ".py",
   "mimetype": "text/x-python",
   "name": "python",
   "nbconvert_exporter": "python",
   "pygments_lexer": "ipython3",
   "version": "3.10.12"
  }
 },
 "nbformat": 4,
 "nbformat_minor": 2
}
