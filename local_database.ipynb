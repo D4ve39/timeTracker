{
 "cells": [
  {
   "cell_type": "markdown",
   "metadata": {},
   "source": [
    "This Notebook contains the required code to setup and query data from the local SQL database. It uses the SQLite3 library. The tables follow the structure desribed in the README file."
   ]
  },
  {
   "cell_type": "code",
   "execution_count": 4,
   "metadata": {},
   "outputs": [],
   "source": [
    "import sqlite3 as sq\n",
    "import logging"
   ]
  },
  {
   "cell_type": "code",
   "execution_count": 5,
   "metadata": {},
   "outputs": [],
   "source": [
    "logger = logging.getLogger(__name__)\n",
    "logger.setLevel(logging.DEBUG) \n",
    "handler = logging.StreamHandler()\n",
    "handler.setFormatter(logging.Formatter('%(levelname)s: %(message)s'))\n",
    "logger.addHandler(handler)"
   ]
  },
  {
   "cell_type": "markdown",
   "metadata": {},
   "source": [
    "Using only sqlite3 basic fonctionalities, running SQL instructions."
   ]
  },
  {
   "cell_type": "code",
   "execution_count": 6,
   "metadata": {},
   "outputs": [],
   "source": [
    "def create_connection() -> sq.Connection:\n",
    "    try:\n",
    "        conn = sq.connect('time_tracker.db')\n",
    "    except sq.Error as e:\n",
    "        logger.error(f'Connection creation got error: {e}')\n",
    "    finally:\n",
    "        return conn\n",
    "    \n",
    "def close_connection(conn: sq.Connection) -> None:\n",
    "    try:\n",
    "        conn.close()\n",
    "    except sq.Error as e:\n",
    "        logger.error(f'Connection closing got error: {e}')"
   ]
  },
  {
   "cell_type": "markdown",
   "metadata": {},
   "source": [
    "Creating the Users table"
   ]
  },
  {
   "cell_type": "code",
   "execution_count": 7,
   "metadata": {},
   "outputs": [],
   "source": [
    "def create_users_table() -> None:\n",
    "    \"\"\"\n",
    "    Creates a new table called 'Users' in the database with the following structure:\n",
    "    \n",
    "    - UserID: INTEGER (Primary Key)\n",
    "    - Name: TEXT (Not Null)\n",
    "    - Email: TEXT (Not Null, Unique)\n",
    "    - Token: TEXT (Not Null, Unique)\n",
    "    \"\"\"\n",
    "    conn = create_connection()\n",
    "    try:\n",
    "        c = conn.cursor()\n",
    "        # Drop the existing table if it exists\n",
    "        c.execute('DROP TABLE IF EXISTS Users')\n",
    "        \n",
    "        # Create the new table with the desired structure\n",
    "        c.execute('''\n",
    "        CREATE TABLE Users (\n",
    "            UserID INTEGER PRIMARY KEY,\n",
    "            Name TEXT NOT NULL,\n",
    "            Email TEXT NOT NULL UNIQUE,\n",
    "            Token TEXT NOT NULL UNIQUE\n",
    "        )\n",
    "        ''')\n",
    "        conn.commit()\n",
    "    except sq.Error as e:\n",
    "        logger.error(f'Creating users table got error: {e}')\n",
    "    finally:\n",
    "        close_connection(conn)\n",
    "\n",
    "create_users_table()\n"
   ]
  },
  {
   "cell_type": "markdown",
   "metadata": {},
   "source": [
    "Creating the TimeEntries table"
   ]
  },
  {
   "cell_type": "code",
   "execution_count": 12,
   "metadata": {},
   "outputs": [],
   "source": [
    "def create_time_entries_table() -> None:\n",
    "    conn = create_connection()\n",
    "    try:\n",
    "        c = conn.cursor()\n",
    "        # Drop the existing table if it exists\n",
    "        c.execute('DROP TABLE IF EXISTS TimeEntries')\n",
    "        # Create the new table with the desired structure\n",
    "        c.execute('''\n",
    "            CREATE TABLE TimeEntries (\n",
    "            TimeEntryID INTEGER PRIMARY KEY,\n",
    "            StartDateTime TEXT NOT NULL,\n",
    "            EndDateTime TEXT NOT NULL,\n",
    "            UserID INTEGER,\n",
    "            FOREIGN KEY(UserID) REFERENCES Users(UserID)\n",
    "        )\n",
    "        ''')\n",
    "        # The foreign key is the link between the two tables. It ensures that the UserID in the TimeEntries table is a valid UserID in the Users table.\n",
    "    except sq.Error as e:\n",
    "        logger.error(f'Creating time_entries table got error: {e}')\n",
    "create_time_entries_table()"
   ]
  }
 ],
 "metadata": {
  "kernelspec": {
   "display_name": "Python 3",
   "language": "python",
   "name": "python3"
  },
  "language_info": {
   "codemirror_mode": {
    "name": "ipython",
    "version": 3
   },
   "file_extension": ".py",
   "mimetype": "text/x-python",
   "name": "python",
   "nbconvert_exporter": "python",
   "pygments_lexer": "ipython3",
   "version": "3.10.12"
  }
 },
 "nbformat": 4,
 "nbformat_minor": 2
}
